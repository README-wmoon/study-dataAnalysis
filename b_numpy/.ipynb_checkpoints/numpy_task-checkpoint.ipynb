{
 "cells": [
  {
   "cell_type": "markdown",
   "id": "11b4f58d-1e2e-4b43-ac0b-1b6ac52389e6",
   "metadata": {},
   "source": [
    "## Numpy Task"
   ]
  },
  {
   "cell_type": "code",
   "execution_count": 254,
   "id": "a894ccd4-cbfa-487e-82b7-dfb036557267",
   "metadata": {},
   "outputs": [],
   "source": [
    "import numpy as np"
   ]
  },
  {
   "cell_type": "code",
   "execution_count": 256,
   "id": "fee9563e-fa5d-4ec7-b2f9-d6adfccddeac",
   "metadata": {},
   "outputs": [
    {
     "name": "stdout",
     "output_type": "stream",
     "text": [
      "[ 1  2  3  4  5  6  7  8  9 10]\n"
     ]
    }
   ],
   "source": [
    "# 1~10까지의 요소를 ndarray에 담는다.\n",
    "ndarray1 = np.arange(1, 11)\n",
    "print(ndarray1)"
   ]
  },
  {
   "cell_type": "code",
   "execution_count": 263,
   "id": "3e499024-d613-4c93-8aec-93f204d481d2",
   "metadata": {},
   "outputs": [
    {
     "name": "stdout",
     "output_type": "stream",
     "text": [
      "[[ 9 10]\n",
      " [ 7  8]\n",
      " [ 5  6]\n",
      " [ 3  4]\n",
      " [ 1  2]]\n"
     ]
    }
   ],
   "source": [
    "# 3행 2열 list를 ndarray에 담고 각 요소는 순서대로 6, 5, 4, 3, 2, 1이다.\n",
    "ndarray2 = ndarray1.reshape((-1, 2))\n",
    "print(ndarray2[::-1])"
   ]
  },
  {
   "cell_type": "code",
   "execution_count": 226,
   "id": "0a501635-783c-4817-b353-5da3c7abb113",
   "metadata": {},
   "outputs": [
    {
     "name": "stdout",
     "output_type": "stream",
     "text": [
      "[[10]\n",
      " [ 8]\n",
      " [ 6]\n",
      " [ 4]]\n"
     ]
    }
   ],
   "source": [
    "# 4행 1열 ndarray, 순서대로 10, 8, 6, 4를 담는다\n",
    "# Transpose: 전치, 행과 열을 바꿔준다\n",
    "# ndaay2 = np.array([[(5 - i) * 2 for i in range(4)]]).T\n",
    "ndarray1 = np.arange(start=4, stop=11, step=2)\n",
    "ndarray2 = ndarray1.reshape((4, -1))\n",
    "print(ndarray2[::-1])"
   ]
  },
  {
   "cell_type": "code",
   "execution_count": 227,
   "id": "265c331f-0321-4f16-b18e-781eb6bfe64c",
   "metadata": {},
   "outputs": [
    {
     "name": "stdout",
     "output_type": "stream",
     "text": [
      "[ 6  7  8  9 10 11 12 13 14 15]\n"
     ]
    }
   ],
   "source": [
    "# 1~10까지 요소를 ndarray에 담고 각 요소에 5씩 더해준다.\n",
    "ndarray1 = np.arange(1, 11)\n",
    "print(ndarray1 + 5)"
   ]
  },
  {
   "cell_type": "code",
   "execution_count": 228,
   "id": "058eeaad-ea54-4d7a-ae02-d30126add27d",
   "metadata": {},
   "outputs": [
    {
     "name": "stdout",
     "output_type": "stream",
     "text": [
      "[0. 0. 0. 0. 0. 0. 0. 0. 0. 0.]\n",
      "<class 'numpy.ndarray'>\n",
      "int32\n"
     ]
    }
   ],
   "source": [
    "# axis 0이 10인 shape이면서 모든 원소가 0, dtype은 int32인 ndarray만들기\n",
    "ndarry1 = np.zeros(10)\n",
    "print(ndarry1)\n",
    "ndarray1_int32 = ndarray1.astype(np.int32)\n",
    "print(type(ndarray1_int32))\n",
    "print(ndarray1_int32.dtype)\n"
   ]
  },
  {
   "cell_type": "code",
   "execution_count": 229,
   "id": "fb693583-aa50-4970-a59d-2e53ccdfd31a",
   "metadata": {},
   "outputs": [
    {
     "name": "stdout",
     "output_type": "stream",
     "text": [
      "원본\n",
      "[[20 18 16 14 12]\n",
      " [10  8  6  4  2]]\n",
      "[[10  8  6  4  2]\n",
      " [20 18 16 14 12]]\n"
     ]
    }
   ],
   "source": [
    "# axis 0이 3, axis1이 4인 shape이면서 모든 원소가 1인 ndarray 만들기\n",
    "ndarray1 = np.array([i for i in range(20, 0, -2)])\n",
    "ndarray2 = ndarray1.reshape((2, -1))\n",
    "print(f\"원본\\n{ndarray2}\")\n",
    "sorted_ndarray_axis0 = np.sort(ndarray2, axis=0)\n",
    "print(sorted_ndarray_axis0)"
   ]
  },
  {
   "cell_type": "code",
   "execution_count": 230,
   "id": "2e3a6a57-da79-49b3-8fd4-2baf5d0132f3",
   "metadata": {},
   "outputs": [
    {
     "name": "stdout",
     "output_type": "stream",
     "text": [
      "axis=0 정렬\n",
      "[[0 1 2 3 4]\n",
      " [5 6 7 8 9]]\n"
     ]
    }
   ],
   "source": [
    "# axis 0이 5, 각 요소가 0~4인 ndarray 만들기\n",
    "ndarray1 = np.array([i for i in range(0, 10)])\n",
    "ndarray2 = ndarray1.reshape((2, -1))\n",
    "sorted_ndarray_axis0 = np.sort(ndarray2, axis=0)\n",
    "print(f\"axis=0 정렬\\n{sorted_ndarray_axis0}\")"
   ]
  },
  {
   "cell_type": "code",
   "execution_count": 231,
   "id": "85af0f78-e9f0-479f-9a81-103046546818",
   "metadata": {},
   "outputs": [
    {
     "name": "stdout",
     "output_type": "stream",
     "text": [
      "(8, 2)\n",
      "[[ 0  1]\n",
      " [ 2  3]\n",
      " [ 4  5]\n",
      " [ 6  7]\n",
      " [ 8  9]\n",
      " [10 11]\n",
      " [12 13]\n",
      " [14 15]]\n",
      "2\n",
      "[0 1] <class 'numpy.ndarray'>\n"
     ]
    }
   ],
   "source": [
    "# 아래의 ndarray1이 주어졌을 때 순서대로 문제를 해결한다.\n",
    "ndarray1 = np.arange(start=0, stop=16)\n",
    "\n",
    "# print(ndarray1)\n",
    "\n",
    "# 2 Dimension, axis 1은 2로 변경\n",
    "ndarray2 = ndarray1.reshape((-1, 2))\n",
    "print(ndarray2.shape)\n",
    "print(ndarray2)\n",
    "print(ndarray2[1, 0])\n",
    "print(ndarray2[0], type(ndarray2[0]))"
   ]
  },
  {
   "cell_type": "code",
   "execution_count": 232,
   "id": "62d5ed2e-17a8-49cd-9d51-1806cca8cf0a",
   "metadata": {},
   "outputs": [
    {
     "name": "stdout",
     "output_type": "stream",
     "text": [
      "(2, 8)\n",
      "[[ 0  1  2  3  4  5  6  7]\n",
      " [ 8  9 10 11 12 13 14 15]]\n",
      "8\n",
      "[0 1 2 3 4 5 6 7] <class 'numpy.ndarray'>\n"
     ]
    }
   ],
   "source": [
    "# 2 Dimension, axis 0은 8로 변경\n",
    "ndarray2 = ndarray1.reshape((-1, 8))\n",
    "print(ndarray2.shape)\n",
    "print(ndarray2)\n",
    "print(ndarray2[1, 0])\n",
    "print(ndarray2[0], type(ndarray2[0]))"
   ]
  },
  {
   "cell_type": "code",
   "execution_count": 233,
   "id": "b1597891-a521-407b-8991-467fccf7e8bf",
   "metadata": {},
   "outputs": [
    {
     "name": "stdout",
     "output_type": "stream",
     "text": [
      "[[[ 0]\n",
      "  [ 1]\n",
      "  [ 2]\n",
      "  [ 3]\n",
      "  [ 4]\n",
      "  [ 5]\n",
      "  [ 6]\n",
      "  [ 7]]\n",
      "\n",
      " [[ 8]\n",
      "  [ 9]\n",
      "  [10]\n",
      "  [11]\n",
      "  [12]\n",
      "  [13]\n",
      "  [14]\n",
      "  [15]]]\n",
      "3\n",
      "(16, 1)\n",
      "[[ 0]\n",
      " [ 1]\n",
      " [ 2]\n",
      " [ 3]\n",
      " [ 4]\n",
      " [ 5]\n",
      " [ 6]\n",
      " [ 7]\n",
      " [ 8]\n",
      " [ 9]\n",
      " [10]\n",
      " [11]\n",
      " [12]\n",
      " [13]\n",
      " [14]\n",
      " [15]]\n"
     ]
    }
   ],
   "source": [
    "# 3 Dimension으로 변경\n",
    "ndarray3 = ndarray1.reshape((-1, 8, 1))\n",
    "print(ndarray3)\n",
    "print(ndarray3.ndim)\n",
    "\n",
    "# ndarray3을 axis 1이 1인 2차원 ndarray로 변환\n",
    "ndarray4 = ndarray3.reshape((-1, 1))\n",
    "print(ndarray4.shape)\n",
    "print(ndarray4)"
   ]
  },
  {
   "cell_type": "code",
   "execution_count": 234,
   "id": "9418042f-1bc4-4e8a-a249-6881cbf20857",
   "metadata": {},
   "outputs": [
    {
     "name": "stdout",
     "output_type": "stream",
     "text": [
      "[ 0  1  2  3  4  5  6  7  8  9 10 11 12 13 14 15]\n",
      "(16,)\n",
      "1\n"
     ]
    }
   ],
   "source": [
    "# ndarray3을 1 Dimension으로 변환\n",
    "# flatten = 1차원으로 바뀜 -> 이걸로 많이 씀\n",
    "# ndarray4 = ndarray3.flatten()\n",
    "ndarray4 = ndarray3.reshape(16)\n",
    "print(ndarray4)\n",
    "print(ndarray4.shape)\n",
    "print(ndarray4.ndim)"
   ]
  },
  {
   "cell_type": "code",
   "execution_count": 235,
   "id": "8317400f-379b-450d-b718-761cf8213c00",
   "metadata": {},
   "outputs": [
    {
     "name": "stdout",
     "output_type": "stream",
     "text": [
      "97\n"
     ]
    }
   ],
   "source": [
    "# 1차원 ndarray 1~100까지 값 중 97값 추출하기\n",
    "ndarray1 = np.arange(start=1, stop=101)\n",
    "print(ndarray1[-4])"
   ]
  },
  {
   "cell_type": "code",
   "execution_count": 265,
   "id": "0779541b-1a9e-4d4d-904e-20c60d148ab5",
   "metadata": {},
   "outputs": [
    {
     "name": "stdout",
     "output_type": "stream",
     "text": [
      "15\n"
     ]
    }
   ],
   "source": [
    "# 아래의 ndarray1이 주어졌을 때 순서대로 문제를 해결한다.\n",
    "ndarray1 = np.arange(start=1, stop=21)\n",
    "\n",
    "# 2차원 배열 axis 0은 4, axis 1은 5로 1~20 요소 값 중 15값 추출하기\n",
    "ndarray2 = ndarray1.reshape((-1, 5))\n",
    "print(ndarray2[2][4])"
   ]
  },
  {
   "cell_type": "code",
   "execution_count": 266,
   "id": "decaadd0-a5a6-423a-8758-68b830aebe2f",
   "metadata": {},
   "outputs": [
    {
     "name": "stdout",
     "output_type": "stream",
     "text": [
      "[[ 1  2  3  4]\n",
      " [ 5  6  7  8]\n",
      " [ 9 10 11 12]\n",
      " [13 14 15 16]\n",
      " [17 18 19 20]]\n"
     ]
    }
   ],
   "source": [
    "# 2 Dimension, axis 0은 5로 변경\n",
    "ndarray2 = ndarray1.reshape((-1, 4))\n",
    "print(ndarray2)"
   ]
  },
  {
   "cell_type": "code",
   "execution_count": 269,
   "id": "62e60722-e6b0-40de-a023-c83840fbc067",
   "metadata": {},
   "outputs": [
    {
     "name": "stdout",
     "output_type": "stream",
     "text": [
      "8\n"
     ]
    }
   ],
   "source": [
    "# 2행의 4번째 숫자 출력\n",
    "print(ndarray2[1, 3])"
   ]
  },
  {
   "cell_type": "code",
   "execution_count": 273,
   "id": "416c39b1-fc37-489c-8c02-0c191c9780da",
   "metadata": {},
   "outputs": [
    {
     "name": "stdout",
     "output_type": "stream",
     "text": [
      "[  2   4   6   8  10  12  14  16  18  20  22  24  26  28  30  32  34  36\n",
      "  38  40  42  44  46  48  50  52  54  56  58  60  62  64  66  68  70  72\n",
      "  74  76  78  80  82  84  86  88  90  92  94  96  98 100]\n"
     ]
    }
   ],
   "source": [
    "# 1~100중 짝수만 출력\n",
    "ndarray1 = np.arange(start=1, stop=101)\n",
    "ndarray2 = ndarray1[ndarray1 % 2 ==0]\n",
    "print(ndarray2)"
   ]
  },
  {
   "cell_type": "code",
   "execution_count": 278,
   "id": "a83ecde4-da9a-4d6b-8b9b-d24b4052605e",
   "metadata": {},
   "outputs": [
    {
     "name": "stdout",
     "output_type": "stream",
     "text": [
      "[[ 82  84  86  88  90]\n",
      " [ 92  94  96  98 100]]\n",
      "[[ 82  84  86  88  90]\n",
      " [ 92  94  96  98 100]]\n"
     ]
    }
   ],
   "source": [
    "# 위에서 구한 짝수들을 axis 0이 10인 2차원 배열로 변환 후 82~100까지 추출\n",
    "ndarray2_axis0 = ndarray2.reshape((10, -1))\n",
    "print(ndarray2_axis0[8:])"
   ]
  },
  {
   "cell_type": "code",
   "execution_count": 276,
   "id": "c3b1994b-39a8-4736-a0ca-b227d622f273",
   "metadata": {},
   "outputs": [
    {
     "name": "stdout",
     "output_type": "stream",
     "text": [
      "(array([8]), array([2]))\n",
      "(array([9]), array([4]))\n"
     ]
    }
   ],
   "source": [
    "# 위에서 구한 요소 중 (86, 100) 좌표 구하기\n",
    "ndarray2_axisx = np.where(ndarray2_axis0 == 86)\n",
    "ndarray2_axisy = np.where(ndarray2_axis0 == 100)\n",
    "print(ndarray2_axisx)\n",
    "print(ndarray2_axisy)"
   ]
  },
  {
   "cell_type": "code",
   "execution_count": 242,
   "id": "3e27f454-c24b-4190-bede-4ce7346a6311",
   "metadata": {},
   "outputs": [
    {
     "name": "stdout",
     "output_type": "stream",
     "text": [
      "[ 2 12 22 32 42 52 62 72 82 92]\n"
     ]
    }
   ],
   "source": [
    "# 아래의 ndarray1이 주어졌을 때 순서대로 문제를 해결한다.\n",
    "ndarray1 = np.arange(start=1, stop=101)\n",
    "\n",
    "# 각 요소중 1의 자리수가 2인 수들만 추출하기\n",
    "print(ndarray1[ndarray1 % 10 == 2])"
   ]
  },
  {
   "cell_type": "code",
   "execution_count": 243,
   "id": "8a7b0129-b6ba-4011-aa60-9e45628d195d",
   "metadata": {},
   "outputs": [
    {
     "name": "stdout",
     "output_type": "stream",
     "text": [
      "[10 20 30 40]\n"
     ]
    }
   ],
   "source": [
    "# 1~49요소 중 2와 5의 공배수 추출하기\n",
    "ndarray1 = np.arange(start=1, stop=50)\n",
    "ndarray_mul2 = ndarray1[ndarray1% 2 == 0]\n",
    "ndarray_multiple = ndarray_mul2[ndarray_mul2 % 5 == 0]\n",
    "print(ndarray_multiple)"
   ]
  },
  {
   "cell_type": "code",
   "execution_count": 244,
   "id": "40cd50ec-5dce-4d79-b9ed-437903350f3b",
   "metadata": {},
   "outputs": [
    {
     "name": "stdout",
     "output_type": "stream",
     "text": [
      "[20 30 40]\n"
     ]
    }
   ],
   "source": [
    "# 위에서 추출한 공배수 중 20이상인 값만 추출하기\n",
    "print(ndarray_multiple[1::])"
   ]
  },
  {
   "cell_type": "code",
   "execution_count": 245,
   "id": "5ebeb3f6-224f-4d3a-8bc9-1bd84e021b7b",
   "metadata": {},
   "outputs": [
    {
     "name": "stdout",
     "output_type": "stream",
     "text": [
      "['Mango' 'Apple' 'Pear' 'Pitch' 'Melon']\n"
     ]
    }
   ],
   "source": [
    "# 데이터를 분석하여, 각 수치별 오름차순 및 내림차순 후 이름을 출력하세요.\n",
    "# [[과일이름], [가격]], 가격별 내림차순\n",
    "array1 = [['Mango', 'Apple', 'Pear', 'Pitch', 'Melon'], [1500, 1800, 2000, 2500, 8500]]\n",
    "name = np.array(array1[0])\n",
    "price = np.array(array1[1])\n",
    "print(name[price.argsort()])"
   ]
  },
  {
   "cell_type": "code",
   "execution_count": 246,
   "id": "c5617ee4-30cb-47d6-8d47-d23ba5f7581a",
   "metadata": {},
   "outputs": [
    {
     "name": "stdout",
     "output_type": "stream",
     "text": [
      "['도너' '둘리' '또치' '마이콜' '길동'] ['도너' '마이콜' '둘리' '길동' '또치']\n"
     ]
    }
   ],
   "source": [
    "# [[이름], [나이], [학점]], 나이별 내림차순, 학점별 오름차순\n",
    "# array2 = [['둘리', '또치', '길동', '도너', '마이콜'], [7, 9, 40, 5, 20], ['C', 'A', 'B', 'F', 'D']]\n",
    "name = np.array(array2[0])\n",
    "age = np.array(array2[1])\n",
    "alphabet = np.array(array2[2])\n",
    "print(name[age.argsort()], name[alphabet.argsort()[::-1]])"
   ]
  },
  {
   "cell_type": "code",
   "execution_count": 247,
   "id": "548c7b92-2531-43d0-bfaf-9f01df2032d8",
   "metadata": {},
   "outputs": [
    {
     "name": "stdout",
     "output_type": "stream",
     "text": [
      "['영국' '러시아' '남아프리카 공화국' '미국' '한국']\n"
     ]
    }
   ],
   "source": [
    "# # [[국가이름], [GDP 성장률]], GDP 성장률별 오름차순\n",
    "# array3 = [['한국', '영국', '러시아', '남아프리카 공화국', '미국'], ['1.7%', '-0.6%', '0.3%', '1.2%', '1.4%']]\n",
    "country = np.array(array3[0])\n",
    "gdp = np.array(array3[1])\n",
    "\n",
    "print(country[gdp.argsort()])"
   ]
  }
 ],
 "metadata": {
  "kernelspec": {
   "display_name": "Python 3 (ipykernel)",
   "language": "python",
   "name": "python3"
  },
  "language_info": {
   "codemirror_mode": {
    "name": "ipython",
    "version": 3
   },
   "file_extension": ".py",
   "mimetype": "text/x-python",
   "name": "python",
   "nbconvert_exporter": "python",
   "pygments_lexer": "ipython3",
   "version": "3.11.8"
  }
 },
 "nbformat": 4,
 "nbformat_minor": 5
}
